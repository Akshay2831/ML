{
 "cells": [
  {
   "cell_type": "code",
   "execution_count": 1,
   "id": "e06f7a62-4712-44cb-8b94-662308017406",
   "metadata": {},
   "outputs": [
    {
     "name": "stdout",
     "output_type": "stream",
     "text": [
      "Pairs with sum 10: [(7, 3), (4, 6)]\n",
      "Number of pairs: 2\n"
     ]
    }
   ],
   "source": [
    "\n",
    "list1= [2, 7, 4, 1, 3, 6]\n",
    "pairs = []\n",
    "for i in range(len(list1)):\n",
    "    for j in range(i + 1, len(list1)):\n",
    "     if list1[i] + list1[j] == 10:\n",
    "            pairs.append((list1[i], list1[j]))\n",
    "print(\"Pairs with sum 10:\", pairs)\n",
    "print(\"Number of pairs:\", len(pairs))"
   ]
  },
  {
   "cell_type": "code",
   "execution_count": 2,
   "id": "0d855eeb-4fb5-46d0-b185-dd3b39067ab9",
   "metadata": {},
   "outputs": [
    {
     "name": "stdin",
     "output_type": "stream",
     "text": [
      "Enter the numbers   1 2 3 4 65\n"
     ]
    },
    {
     "name": "stdout",
     "output_type": "stream",
     "text": [
      "Range is 65-1=64\n"
     ]
    }
   ],
   "source": [
    "def find_range(numbers):\n",
    "    if len(numbers) < 3:\n",
    "        return \"Range determination not possible\"\n",
    "    return max(numbers) - min(numbers)\n",
    "\n",
    "\n",
    "numbers = list(map(int, input(\"Enter the numbers  \").split()))\n",
    "\n",
    "result = find_range(numbers)\n",
    "print(f'Range is {max(numbers)}-{min(numbers)}={result}')"
   ]
  },
  {
   "cell_type": "code",
   "execution_count": 3,
   "id": "c6bac460-1958-44b1-b6ff-497c2f1d9c5f",
   "metadata": {},
   "outputs": [],
   "source": [
    "\n",
    "def mat_mult(A, B):\n",
    "    n = len(A)\n",
    "    C = [[0] * n for _ in range(n)]\n",
    "    for i in range(n):\n",
    "        for k in range(n):\n",
    "            if A[i][k] != 0:\n",
    "                for j in range(n):\n",
    "                    C[i][j] += A[i][k] * B[k][j]\n",
    "    return C\n",
    "\n",
    "def matrix_power(A, m):\n",
    "    n = len(A)\n",
    "    result = [[1 if i == j else 0 for j in range(n)] for i in range(n)]\n",
    "    base = A\n",
    "    while m:\n",
    "        if m & 1:\n",
    "            result = mat_mult(result, base)\n",
    "        base = mat_mult(base, base)\n",
    "        m >>= 1\n",
    "    return result"
   ]
  },
  {
   "cell_type": "code",
   "execution_count": 4,
   "id": "194dbb48-2c8a-496e-921e-632224389274",
   "metadata": {},
   "outputs": [
    {
     "name": "stdin",
     "output_type": "stream",
     "text": [
      "Enter a string:  hippopotamus\n"
     ]
    },
    {
     "name": "stdout",
     "output_type": "stream",
     "text": [
      "The most frequent character is 'p' with 3 occurrences.\n"
     ]
    }
   ],
   "source": [
    "from collections import Counter\n",
    "\n",
    "def max_occurrence_char(input_string):\n",
    "    \n",
    "    char_count = Counter(input_string.lower())\n",
    "    \n",
    "    max_char, max_count = char_count.most_common(1)[0]\n",
    "    \n",
    "    return max_char, max_count\n",
    "\n",
    "input_string = input(\"Enter a string: \")\n",
    "\n",
    "ch, count = max_occurrence_char(input_string)\n",
    "print(f\"The most frequent character is '{ch}' with {count} occurrences.\")"
   ]
  },
  {
   "cell_type": "code",
   "execution_count": 5,
   "id": "376190b5-0e53-4290-b3aa-df852dddf1e8",
   "metadata": {},
   "outputs": [
    {
     "name": "stdout",
     "output_type": "stream",
     "text": [
      "Generated Numbers= [2, 8, 5, 3, 7, 5, 7, 8, 2, 9, 1, 6, 5, 8, 10, 1, 8, 5, 5, 5, 1, 8, 9, 3, 2]\n",
      "Mean= 5.32\n",
      "Median= 5\n",
      "Mode= 5\n"
     ]
    }
   ],
   "source": [
    "import random\n",
    "import statistics\n",
    "\n",
    "random_num = [random.randint(1, 10) for _ in range(25)]\n",
    "\n",
    "mean_val = statistics.mean(random_num)\n",
    "median_val = statistics.median(random_num)\n",
    "try:\n",
    "    mode_val = statistics.mode(random_num)\n",
    "except statistics.StatisticsError:\n",
    "    mode_val = statistics.multimode(random_num)\n",
    "\n",
    "print(\"Generated Numbers=\", random_num)\n",
    "print(\"Mean=\", mean_val)\n",
    "print(\"Median=\", median_val)\n",
    "print(\"Mode=\", mode_val)\n"
   ]
  },
  {
   "cell_type": "code",
   "execution_count": null,
   "id": "d0f17791-c3a6-4371-8ab5-c791dfa79fc2",
   "metadata": {},
   "outputs": [],
   "source": []
  }
 ],
 "metadata": {
  "kernelspec": {
   "display_name": "Python [conda env:notebook]",
   "language": "python",
   "name": "conda-env-notebook-py"
  },
  "language_info": {
   "codemirror_mode": {
    "name": "ipython",
    "version": 3
   },
   "file_extension": ".py",
   "mimetype": "text/x-python",
   "name": "python",
   "nbconvert_exporter": "python",
   "pygments_lexer": "ipython3",
   "version": "3.12.11"
  }
 },
 "nbformat": 4,
 "nbformat_minor": 5
}
